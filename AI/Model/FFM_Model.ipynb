{
 "cells": [
  {
   "cell_type": "code",
   "execution_count": 1,
   "metadata": {},
   "outputs": [],
   "source": [
    "import xlearn as xl\n",
    "import os\n",
    "import re\n",
    "import pandas as pd\n",
    "import numpy as np\n",
    "from sklearn.preprocessing import LabelEncoder\n",
    "import joblib\n",
    "import ast\n",
    "from sklearn.metrics import roc_auc_score\n",
    "from sklearn.metrics import mean_squared_error\n",
    "import numpy as np\n",
    "from collections import defaultdict\n",
    "import random"
   ]
  },
  {
   "cell_type": "markdown",
   "metadata": {},
   "source": [
    "# 모델 학습"
   ]
  },
  {
   "cell_type": "code",
   "execution_count": 2,
   "metadata": {},
   "outputs": [],
   "source": [
    "user_libffm_path = '../Dataset/user_libffm_data_folder/'\n",
    "lib_path = '../Dataset/lib_dataset/'\n",
    "user_libffm_result_path = '../Dataset/user_FFM_result_folder/'\n",
    "encoder_data_path = '../DataSet/Encoder/'\n",
    "model_path = 'ffm_model/'"
   ]
  },
  {
   "cell_type": "code",
   "execution_count": 3,
   "metadata": {},
   "outputs": [],
   "source": [
    "#reg\n",
    "\n",
    "ffm_reg_model = xl.create_ffm()\n",
    "ffm_reg_model.setTrain(os.path.join(lib_path, \"FFM_reg.txt\"))\n",
    "\n",
    "param = {'task':'reg', 'lr':0.02, 'lambda':0.002, 'opt':'ftrl', 'metric': 'rmse', 'epoch':100}\n",
    "\n",
    "ffm_reg_model.fit(param, os.path.join(model_path, \"ffm_reg_model.out\"))\n",
    "\n",
    "ffm_reg_model.setTest(os.path.join(lib_path, \"FFM_test_reg.txt\"))\n",
    "ffm_reg_model.predict(os.path.join(model_path, \"ffm_reg_model.out\"), os.path.join(lib_path, \"reg_output.txt\"))"
   ]
  },
  {
   "cell_type": "code",
   "execution_count": 4,
   "metadata": {},
   "outputs": [
    {
     "name": "stdout",
     "output_type": "stream",
     "text": [
      "2.5507344379718315\n"
     ]
    }
   ],
   "source": [
    "\n",
    "y_reg_true = []\n",
    "with open(os.path.join(lib_path, \"FFM_valid_reg.txt\"), 'r') as file:\n",
    "    for line in file:\n",
    "        first_value = int(line.split()[0])\n",
    "        y_reg_true.append(first_value)\n",
    "\n",
    "y_reg_scores = []\n",
    "with open(os.path.join(lib_path, \"reg_output.txt\"), 'r') as file:\n",
    "    for line in file:\n",
    "        value = float(line.strip())\n",
    "        y_reg_scores.append(value)\n",
    "\n",
    "\n",
    "rmse_score = np.sqrt(mean_squared_error(y_reg_true, y_reg_scores)) \n",
    "print(rmse_score)"
   ]
  },
  {
   "cell_type": "code",
   "execution_count": 5,
   "metadata": {},
   "outputs": [],
   "source": [
    "#binary\n",
    "\n",
    "ffm_binary_model = xl.create_ffm()\n",
    "ffm_binary_model.setTrain(os.path.join(lib_path, \"FFM_binary.txt\"))\n",
    "\n",
    "param = {'task':'binary', 'lr':0.02, 'lambda':0.002, 'opt':'ftrl', 'metric': 'auc','epoch':100}\n",
    "ffm_binary_model.fit(param, os.path.join(model_path, \"ffm_binary_model.out\"))\n",
    "\n",
    "ffm_binary_model.setSigmoid()\n",
    "ffm_binary_model.setTest(os.path.join(lib_path, \"FFM_test_binary.txt\"))\n",
    "ffm_binary_model.predict(os.path.join(model_path, \"ffm_binary_model.out\"), os.path.join(lib_path, \"binary_output.txt\"))"
   ]
  },
  {
   "cell_type": "code",
   "execution_count": 6,
   "metadata": {},
   "outputs": [
    {
     "name": "stdout",
     "output_type": "stream",
     "text": [
      "0.8902246678891403\n"
     ]
    }
   ],
   "source": [
    "y_binary_true = []\n",
    "with open(os.path.join(lib_path, \"FFM_valid_binary.txt\"), 'r') as file:\n",
    "    for line in file:\n",
    "        first_value = int(line.split()[0])\n",
    "        y_binary_true.append(first_value)\n",
    "\n",
    "y_binary_scores = []\n",
    "with open(os.path.join(lib_path, \"binary_output.txt\"), 'r') as file:\n",
    "    for line in file:\n",
    "        value = float(line.strip())\n",
    "        y_binary_scores.append(value)\n",
    "\n",
    "\n",
    "auc_score = np.sqrt(roc_auc_score(y_binary_true, y_binary_scores))\n",
    "print(auc_score)"
   ]
  },
  {
   "cell_type": "markdown",
   "metadata": {},
   "source": [
    "# 문제 추천 메소드"
   ]
  },
  {
   "cell_type": "code",
   "execution_count": 7,
   "metadata": {},
   "outputs": [],
   "source": [
    "\n",
    "def get_binary_recommend_result(user_name):\n",
    "\n",
    "    problem_number_Encoder = joblib.load(os.path.join(encoder_data_path, 'problem_number_Encoder.joblib'))\n",
    "    problem_algorithm_Encoder = joblib.load(os.path.join(encoder_data_path, 'problem_algorithm_Encoder.joblib'))\n",
    "    \n",
    "    ffm_binary_model = xl.create_ffm()\n",
    "    ffm_binary_model.setSigmoid()\n",
    "    ffm_binary_model.setTest(os.path.join(user_libffm_path, f\"{user_name}_libffm_binary.txt\"))\n",
    "    ffm_binary_model.predict(os.path.join(model_path, \"ffm_binary_model.out\"), os.path.join(user_libffm_result_path, f\"{user_name}_ffm_binary_result.txt\"))\n",
    "\n",
    "    result = []\n",
    "    with open(os.path.join(user_libffm_result_path, f\"{user_name}_ffm_binary_result.txt\")) as file:\n",
    "        for line in file:\n",
    "            value = float(line.strip())\n",
    "            result.append(value)\n",
    "\n",
    "    recommend_dict = defaultdict(list)\n",
    "\n",
    "    with open(os.path.join(user_libffm_path, f\"{user_name}_libffm_binary.txt\"), 'r') as file:\n",
    "        user_tier = re.findall(r'1:(\\d+):[.\\d]+', file.readline())\n",
    "        user_weak_algorithm = re.findall(r'6:(\\d+):[.\\d]+', file.readline())\n",
    "\n",
    "        file.seek(0)\n",
    "        \n",
    "        for i, line in enumerate(file):\n",
    "            values = (re.findall(r'2:(\\d+):1', line), re.findall(r'3:(\\d+):0.5', line))\n",
    "            recommend_dict[int(values[1][0])].append(((problem_number_Encoder.inverse_transform([int(values[0][0])]))[0] , result[i]))\n",
    "\n",
    "    sorted_dict = {key: sorted(value, key=lambda x: -x[1]) for key, value in recommend_dict.items()}\n",
    "    user_weak_algorithm = [int(x) for x in user_weak_algorithm]\n",
    "    user_weak_algorithm = problem_algorithm_Encoder.inverse_transform(user_weak_algorithm)\n",
    "\n",
    "    \n",
    "    \n",
    "    return sorted_dict, user_tier, user_weak_algorithm"
   ]
  },
  {
   "cell_type": "code",
   "execution_count": 8,
   "metadata": {},
   "outputs": [],
   "source": [
    "def get_reg_recommend_result(user_name):\n",
    "\n",
    "    problem_number_Encoder = joblib.load(os.path.join(encoder_data_path, 'problem_number_Encoder.joblib'))\n",
    "    problem_algorithm_Encoder = joblib.load(os.path.join(encoder_data_path, 'problem_algorithm_Encoder.joblib'))\n",
    "    \n",
    "    ffm_reg_model = xl.create_ffm()\n",
    "    ffm_reg_model.setTest(os.path.join(user_libffm_path, f\"{user_name}_libffm_reg.txt\"))\n",
    "    ffm_reg_model.predict(os.path.join(model_path, \"ffm_reg_model.out\"), os.path.join(user_libffm_result_path, f\"{user_name}_ffm_reg_result.txt\"))\n",
    "\n",
    "    result = []\n",
    "    with open(os.path.join(user_libffm_result_path, f\"{user_name}_ffm_reg_result.txt\")) as file:\n",
    "        for line in file:\n",
    "            value = float(line.strip())\n",
    "            result.append(value)\n",
    "\n",
    "    recommend_dict = defaultdict(list)\n",
    "\n",
    "    with open(os.path.join(user_libffm_path, f\"{user_name}_libffm_reg.txt\"), 'r') as file:\n",
    "        user_tier = re.findall(r'1:(\\d+):[.\\d]+', file.readline())\n",
    "        user_weak_algorithm = re.findall(r'6:(\\d+):[.\\d]+', file.readline())\n",
    "\n",
    "        file.seek(0)\n",
    "        \n",
    "        for i, line in enumerate(file):\n",
    "            values = (re.findall(r'2:(\\d+):1', line), re.findall(r'3:(\\d+):0.5', line))\n",
    "            recommend_dict[int(values[1][0])].append(((problem_number_Encoder.inverse_transform([int(values[0][0])]))[0] , result[i]))\n",
    "    \n",
    "    sorted_dict = {key: sorted(value, key=lambda x: -x[1]) for key, value in recommend_dict.items()}\n",
    "    user_weak_algorithm = [int(x) for x in user_weak_algorithm]\n",
    "    user_weak_algorithm = problem_algorithm_Encoder.inverse_transform(user_weak_algorithm)\n",
    "    \n",
    "    return sorted_dict, user_tier, user_weak_algorithm"
   ]
  },
  {
   "cell_type": "markdown",
   "metadata": {},
   "source": [
    "# 모델 출력 기반 Rule Base"
   ]
  },
  {
   "cell_type": "code",
   "execution_count": 9,
   "metadata": {},
   "outputs": [],
   "source": [
    "\n",
    "def get_recommend_list(user_name):\n",
    "    \n",
    "    binary_dict, user_tier, user_weak_algorithm = get_binary_recommend_result(user_name)\n",
    "    reg_dict, user_tier, user_weak_algorithm = get_reg_recommend_result(user_name)\n",
    "\n",
    "    user_tier = int(user_tier[0])\n",
    "    user_weak_algorithm = list(user_weak_algorithm)\n",
    "\n",
    "    fin_binary_keys = [x for x in range(6, user_tier + 4) if x<=22]\n",
    "    fin_binary_dict = {key: binary_dict[key] for key in fin_binary_keys}\n",
    "\n",
    "    fin_reg_keys = [x for x in range(6, user_tier + 4) if x<=22]\n",
    "    fin_reg_dict = {key: reg_dict[key] for key in fin_reg_keys}\n",
    "\n",
    "    fin_binary_dict = {key: [x[0] for x in value[:10]] for key, value in fin_binary_dict.items()}\n",
    "    fin_reg_dict = {key: [x[0] for x in value[:10]] for key, value in fin_reg_dict.items()}\n",
    "\n",
    "    fin_dict = {key: list(set(fin_reg_dict[key]+fin_binary_dict[key])) for key in fin_reg_dict.keys()}\n",
    "    \n",
    "    selected_keys = random.sample(fin_dict.keys(), 3)\n",
    "    selected_values = [random.choice(fin_dict[key]) for key in selected_keys]\n",
    "\n",
    "\n",
    "    return selected_values, user_weak_algorithm\n",
    "    "
   ]
  },
  {
   "cell_type": "code",
   "execution_count": 10,
   "metadata": {},
   "outputs": [
    {
     "name": "stderr",
     "output_type": "stream",
     "text": [
      "C:\\Users\\win10KDH\\AppData\\Local\\Temp\\ipykernel_59096\\428334463.py:20: DeprecationWarning: Sampling from a set deprecated\n",
      "since Python 3.9 and will be removed in a subsequent version.\n",
      "  selected_keys = random.sample(fin_dict.keys(), 3)\n"
     ]
    },
    {
     "data": {
      "text/plain": [
       "([26259, 27436, 23973], ['다이나믹 프로그래밍', '그래프 이론', '구현', '그래프 탐색', '자료 구조'])"
      ]
     },
     "execution_count": 10,
     "metadata": {},
     "output_type": "execute_result"
    }
   ],
   "source": [
    "get_recommend_list('llsy159')"
   ]
  },
  {
   "cell_type": "markdown",
   "metadata": {},
   "source": [
    "# Optuna"
   ]
  },
  {
   "cell_type": "code",
   "execution_count": null,
   "metadata": {},
   "outputs": [
    {
     "name": "stdout",
     "output_type": "stream",
     "text": [
      "Collecting optuna\n",
      "  Downloading optuna-3.4.0-py3-none-any.whl (409 kB)\n",
      "     -------------------------------------- 409.6/409.6 kB 8.5 MB/s eta 0:00:00\n",
      "Requirement already satisfied: numpy in c:\\users\\win10kdh\\anaconda3\\envs\\base_3\\lib\\site-packages (from optuna) (1.23.5)\n",
      "Collecting alembic>=1.5.0\n",
      "  Downloading alembic-1.12.1-py3-none-any.whl (226 kB)\n",
      "     -------------------------------------- 226.8/226.8 kB 7.0 MB/s eta 0:00:00\n",
      "Requirement already satisfied: sqlalchemy>=1.3.0 in c:\\users\\win10kdh\\anaconda3\\envs\\base_3\\lib\\site-packages (from optuna) (1.4.39)\n",
      "Requirement already satisfied: packaging>=20.0 in c:\\users\\win10kdh\\appdata\\roaming\\python\\python39\\site-packages (from optuna) (23.0)\n",
      "Requirement already satisfied: tqdm in c:\\users\\win10kdh\\anaconda3\\envs\\base_3\\lib\\site-packages (from optuna) (4.64.1)\n",
      "Requirement already satisfied: PyYAML in c:\\users\\win10kdh\\anaconda3\\envs\\base_3\\lib\\site-packages (from optuna) (6.0)\n",
      "Collecting colorlog\n",
      "  Downloading colorlog-6.7.0-py2.py3-none-any.whl (11 kB)\n",
      "Collecting Mako\n",
      "  Downloading Mako-1.2.4-py3-none-any.whl (78 kB)\n",
      "     ---------------------------------------- 78.7/78.7 kB 4.6 MB/s eta 0:00:00\n",
      "Requirement already satisfied: typing-extensions>=4 in c:\\users\\win10kdh\\anaconda3\\envs\\base_3\\lib\\site-packages (from alembic>=1.5.0->optuna) (4.4.0)\n",
      "Requirement already satisfied: greenlet!=0.4.17 in c:\\users\\win10kdh\\anaconda3\\envs\\base_3\\lib\\site-packages (from sqlalchemy>=1.3.0->optuna) (2.0.1)\n",
      "Requirement already satisfied: colorama in c:\\users\\win10kdh\\appdata\\roaming\\python\\python39\\site-packages (from colorlog->optuna) (0.4.6)\n",
      "Requirement already satisfied: MarkupSafe>=0.9.2 in c:\\users\\win10kdh\\anaconda3\\envs\\base_3\\lib\\site-packages (from Mako->alembic>=1.5.0->optuna) (2.1.1)\n",
      "Installing collected packages: Mako, colorlog, alembic, optuna\n",
      "Successfully installed Mako-1.2.4 alembic-1.12.1 colorlog-6.7.0 optuna-3.4.0\n"
     ]
    }
   ],
   "source": [
    "!pip install optuna"
   ]
  },
  {
   "cell_type": "code",
   "execution_count": null,
   "metadata": {},
   "outputs": [
    {
     "name": "stderr",
     "output_type": "stream",
     "text": [
      "[I 2023-11-14 13:51:07,410] A new study created in memory with name: no-name-16547e71-f89d-4aa6-acf2-128e14b0ea9e\n",
      "[I 2023-11-14 13:51:32,182] Trial 0 finished with value: 3.0700969901270496 and parameters: {'lr': 0.0002, 'lambda': 0.002, 'alpha': 0.002, 'beta': 0.2, 'lambda_1': 0.01, 'lambda_2': 1.0, 'k': 8, 'init': 0.66}. Best is trial 0 with value: 3.0700969901270496.\n"
     ]
    },
    {
     "name": "stdout",
     "output_type": "stream",
     "text": [
      "3.0700969901270496\n"
     ]
    },
    {
     "name": "stderr",
     "output_type": "stream",
     "text": [
      "[I 2023-11-14 13:51:53,082] Trial 1 finished with value: 3.0196010716890256 and parameters: {'lr': 0.02, 'lambda': 0.0002, 'alpha': 0.02, 'beta': 0.08, 'lambda_1': 0.01, 'lambda_2': 1.0, 'k': 5, 'init': 0.8}. Best is trial 1 with value: 3.0196010716890256.\n"
     ]
    },
    {
     "name": "stdout",
     "output_type": "stream",
     "text": [
      "3.0196010716890256\n"
     ]
    },
    {
     "name": "stderr",
     "output_type": "stream",
     "text": [
      "[I 2023-11-14 13:52:17,221] Trial 2 finished with value: 3.062891097158365 and parameters: {'lr': 0.0002, 'lambda': 0.002, 'alpha': 0.002, 'beta': 0.8, 'lambda_1': 0.01, 'lambda_2': 0.5, 'k': 8, 'init': 0.1}. Best is trial 1 with value: 3.0196010716890256.\n"
     ]
    },
    {
     "name": "stdout",
     "output_type": "stream",
     "text": [
      "3.062891097158365\n"
     ]
    },
    {
     "name": "stderr",
     "output_type": "stream",
     "text": [
      "[I 2023-11-14 13:52:32,094] Trial 3 finished with value: 3.0196785212112394 and parameters: {'lr': 0.2, 'lambda': 0.002, 'alpha': 0.02, 'beta': 0.2, 'lambda_1': 0.01, 'lambda_2': 1.0, 'k': 2, 'init': 0.1}. Best is trial 1 with value: 3.0196010716890256.\n"
     ]
    },
    {
     "name": "stdout",
     "output_type": "stream",
     "text": [
      "3.0196785212112394\n"
     ]
    },
    {
     "name": "stderr",
     "output_type": "stream",
     "text": [
      "[I 2023-11-14 13:52:51,809] Trial 4 finished with value: 3.0198549277207505 and parameters: {'lr': 0.5, 'lambda': 0.0002, 'alpha': 0.02, 'beta': 0.8, 'lambda_1': 0.0001, 'lambda_2': 1.0, 'k': 8, 'init': 0.4}. Best is trial 1 with value: 3.0196010716890256.\n"
     ]
    },
    {
     "name": "stdout",
     "output_type": "stream",
     "text": [
      "3.0198549277207505\n"
     ]
    },
    {
     "name": "stderr",
     "output_type": "stream",
     "text": [
      "[I 2023-11-14 13:53:08,191] Trial 5 finished with value: 3.191775096381725 and parameters: {'lr': 0.02, 'lambda': 2e-06, 'alpha': 0.0002, 'beta': 0.2, 'lambda_1': 0.0001, 'lambda_2': 1.0, 'k': 4, 'init': 0.66}. Best is trial 1 with value: 3.0196010716890256.\n"
     ]
    },
    {
     "name": "stdout",
     "output_type": "stream",
     "text": [
      "3.191775096381725\n"
     ]
    },
    {
     "name": "stderr",
     "output_type": "stream",
     "text": [
      "[I 2023-11-14 13:53:24,455] Trial 6 finished with value: 2.9321182705343163 and parameters: {'lr': 0.5, 'lambda': 2e-05, 'alpha': 0.02, 'beta': 0.08, 'lambda_1': 0.0001, 'lambda_2': 0.1, 'k': 4, 'init': 0.4}. Best is trial 6 with value: 2.9321182705343163.\n"
     ]
    },
    {
     "name": "stdout",
     "output_type": "stream",
     "text": [
      "2.9321182705343163\n"
     ]
    },
    {
     "name": "stderr",
     "output_type": "stream",
     "text": [
      "[I 2023-11-14 13:53:41,033] Trial 7 finished with value: 3.180314966137373 and parameters: {'lr': 0.5, 'lambda': 0.002, 'alpha': 0.0002, 'beta': 0.8, 'lambda_1': 0.0001, 'lambda_2': 0.5, 'k': 4, 'init': 0.1}. Best is trial 6 with value: 2.9321182705343163.\n"
     ]
    },
    {
     "name": "stdout",
     "output_type": "stream",
     "text": [
      "3.180314966137373\n"
     ]
    },
    {
     "name": "stderr",
     "output_type": "stream",
     "text": [
      "[I 2023-11-14 13:54:02,966] Trial 8 finished with value: 3.191718113507188 and parameters: {'lr': 0.0002, 'lambda': 2e-05, 'alpha': 0.0002, 'beta': 0.08, 'lambda_1': 0.01, 'lambda_2': 1.0, 'k': 5, 'init': 0.66}. Best is trial 6 with value: 2.9321182705343163.\n"
     ]
    },
    {
     "name": "stdout",
     "output_type": "stream",
     "text": [
      "3.191718113507188\n"
     ]
    },
    {
     "name": "stderr",
     "output_type": "stream",
     "text": [
      "[I 2023-11-14 13:54:24,776] Trial 9 finished with value: 3.0411290391644905 and parameters: {'lr': 0.5, 'lambda': 0.0002, 'alpha': 0.002, 'beta': 0.8, 'lambda_1': 0.005, 'lambda_2': 0.1, 'k': 5, 'init': 0.1}. Best is trial 6 with value: 2.9321182705343163.\n"
     ]
    },
    {
     "name": "stdout",
     "output_type": "stream",
     "text": [
      "3.0411290391644905\n"
     ]
    },
    {
     "name": "stderr",
     "output_type": "stream",
     "text": [
      "[I 2023-11-14 13:54:41,127] Trial 10 finished with value: 2.932121906487481 and parameters: {'lr': 0.002, 'lambda': 2e-05, 'alpha': 0.02, 'beta': 0.08, 'lambda_1': 0.001, 'lambda_2': 0.1, 'k': 4, 'init': 0.4}. Best is trial 6 with value: 2.9321182705343163.\n"
     ]
    },
    {
     "name": "stdout",
     "output_type": "stream",
     "text": [
      "2.932121906487481\n"
     ]
    },
    {
     "name": "stderr",
     "output_type": "stream",
     "text": [
      "[I 2023-11-14 13:54:57,454] Trial 11 finished with value: 2.9321266527202297 and parameters: {'lr': 0.002, 'lambda': 2e-05, 'alpha': 0.02, 'beta': 0.08, 'lambda_1': 0.001, 'lambda_2': 0.1, 'k': 4, 'init': 0.4}. Best is trial 6 with value: 2.9321182705343163.\n"
     ]
    },
    {
     "name": "stdout",
     "output_type": "stream",
     "text": [
      "2.9321266527202297\n"
     ]
    },
    {
     "name": "stderr",
     "output_type": "stream",
     "text": [
      "[I 2023-11-14 13:55:15,658] Trial 12 finished with value: 2.9321148819250533 and parameters: {'lr': 0.002, 'lambda': 2e-05, 'alpha': 0.02, 'beta': 0.08, 'lambda_1': 0.001, 'lambda_2': 0.1, 'k': 4, 'init': 0.4}. Best is trial 12 with value: 2.9321148819250533.\n"
     ]
    },
    {
     "name": "stdout",
     "output_type": "stream",
     "text": [
      "2.9321148819250533\n"
     ]
    },
    {
     "name": "stderr",
     "output_type": "stream",
     "text": [
      "[I 2023-11-14 13:55:32,397] Trial 13 finished with value: 3.0357719531823877 and parameters: {'lr': 0.002, 'lambda': 2e-05, 'alpha': 0.02, 'beta': 0.08, 'lambda_1': 0.001, 'lambda_2': 1.5, 'k': 4, 'init': 0.4}. Best is trial 12 with value: 2.9321148819250533.\n"
     ]
    },
    {
     "name": "stdout",
     "output_type": "stream",
     "text": [
      "3.0357719531823877\n"
     ]
    },
    {
     "name": "stderr",
     "output_type": "stream",
     "text": [
      "[I 2023-11-14 13:55:51,578] Trial 14 finished with value: 2.932068247322128 and parameters: {'lr': 0.2, 'lambda': 2e-05, 'alpha': 0.02, 'beta': 0.08, 'lambda_1': 0.005, 'lambda_2': 0.1, 'k': 2, 'init': 0.4}. Best is trial 14 with value: 2.932068247322128.\n"
     ]
    },
    {
     "name": "stdout",
     "output_type": "stream",
     "text": [
      "2.932068247322128\n"
     ]
    },
    {
     "name": "stderr",
     "output_type": "stream",
     "text": [
      "[I 2023-11-14 13:56:09,588] Trial 15 finished with value: 2.932910395787708 and parameters: {'lr': 0.2, 'lambda': 2e-06, 'alpha': 0.02, 'beta': 0.08, 'lambda_1': 0.005, 'lambda_2': 0.1, 'k': 2, 'init': 0.8}. Best is trial 14 with value: 2.932068247322128.\n"
     ]
    },
    {
     "name": "stdout",
     "output_type": "stream",
     "text": [
      "2.932910395787708\n"
     ]
    },
    {
     "name": "stderr",
     "output_type": "stream",
     "text": [
      "[I 2023-11-14 13:56:28,152] Trial 16 finished with value: 3.03572875440646 and parameters: {'lr': 0.2, 'lambda': 2e-05, 'alpha': 0.02, 'beta': 0.08, 'lambda_1': 0.005, 'lambda_2': 1.5, 'k': 2, 'init': 0.4}. Best is trial 14 with value: 2.932068247322128.\n"
     ]
    },
    {
     "name": "stdout",
     "output_type": "stream",
     "text": [
      "3.03572875440646\n"
     ]
    },
    {
     "name": "stderr",
     "output_type": "stream",
     "text": [
      "[I 2023-11-14 13:56:47,180] Trial 17 finished with value: 2.9320608021185985 and parameters: {'lr': 0.002, 'lambda': 2e-05, 'alpha': 0.02, 'beta': 0.08, 'lambda_1': 0.005, 'lambda_2': 0.1, 'k': 2, 'init': 0.4}. Best is trial 17 with value: 2.9320608021185985.\n"
     ]
    },
    {
     "name": "stdout",
     "output_type": "stream",
     "text": [
      "2.9320608021185985\n"
     ]
    },
    {
     "name": "stderr",
     "output_type": "stream",
     "text": [
      "[I 2023-11-14 13:57:06,031] Trial 18 finished with value: 3.1714723992004283 and parameters: {'lr': 0.2, 'lambda': 2e-05, 'alpha': 0.0002, 'beta': 0.08, 'lambda_1': 0.005, 'lambda_2': 0.1, 'k': 2, 'init': 0.4}. Best is trial 17 with value: 2.9320608021185985.\n"
     ]
    },
    {
     "name": "stdout",
     "output_type": "stream",
     "text": [
      "3.1714723992004283\n"
     ]
    },
    {
     "name": "stderr",
     "output_type": "stream",
     "text": [
      "[I 2023-11-14 13:57:26,080] Trial 19 finished with value: 3.0406925934300815 and parameters: {'lr': 0.002, 'lambda': 2e-06, 'alpha': 0.002, 'beta': 0.2, 'lambda_1': 0.005, 'lambda_2': 0.1, 'k': 2, 'init': 0.8}. Best is trial 17 with value: 2.9320608021185985.\n"
     ]
    },
    {
     "name": "stdout",
     "output_type": "stream",
     "text": [
      "3.0406925934300815\n"
     ]
    },
    {
     "name": "stderr",
     "output_type": "stream",
     "text": [
      "[I 2023-11-14 13:57:43,056] Trial 20 finished with value: 3.035742167211092 and parameters: {'lr': 0.2, 'lambda': 2e-05, 'alpha': 0.02, 'beta': 0.08, 'lambda_1': 0.005, 'lambda_2': 1.5, 'k': 2, 'init': 0.4}. Best is trial 17 with value: 2.9320608021185985.\n"
     ]
    },
    {
     "name": "stdout",
     "output_type": "stream",
     "text": [
      "3.035742167211092\n"
     ]
    },
    {
     "name": "stderr",
     "output_type": "stream",
     "text": [
      "[I 2023-11-14 13:57:59,626] Trial 21 finished with value: 2.9320571436401224 and parameters: {'lr': 0.002, 'lambda': 2e-05, 'alpha': 0.02, 'beta': 0.08, 'lambda_1': 0.001, 'lambda_2': 0.1, 'k': 2, 'init': 0.4}. Best is trial 21 with value: 2.9320571436401224.\n"
     ]
    },
    {
     "name": "stdout",
     "output_type": "stream",
     "text": [
      "2.9320571436401224\n"
     ]
    },
    {
     "name": "stderr",
     "output_type": "stream",
     "text": [
      "[I 2023-11-14 13:58:15,902] Trial 22 finished with value: 2.932078283522823 and parameters: {'lr': 0.002, 'lambda': 2e-05, 'alpha': 0.02, 'beta': 0.08, 'lambda_1': 0.005, 'lambda_2': 0.1, 'k': 2, 'init': 0.4}. Best is trial 21 with value: 2.9320571436401224.\n"
     ]
    },
    {
     "name": "stdout",
     "output_type": "stream",
     "text": [
      "2.932078283522823\n"
     ]
    },
    {
     "name": "stderr",
     "output_type": "stream",
     "text": [
      "[I 2023-11-14 13:58:32,298] Trial 23 finished with value: 2.932047247796002 and parameters: {'lr': 0.002, 'lambda': 2e-05, 'alpha': 0.02, 'beta': 0.08, 'lambda_1': 0.001, 'lambda_2': 0.1, 'k': 2, 'init': 0.4}. Best is trial 23 with value: 2.932047247796002.\n"
     ]
    },
    {
     "name": "stdout",
     "output_type": "stream",
     "text": [
      "2.932047247796002\n"
     ]
    },
    {
     "name": "stderr",
     "output_type": "stream",
     "text": [
      "[I 2023-11-14 13:58:49,923] Trial 24 finished with value: 2.9925261984634517 and parameters: {'lr': 0.002, 'lambda': 2e-05, 'alpha': 0.02, 'beta': 0.08, 'lambda_1': 0.001, 'lambda_2': 0.5, 'k': 2, 'init': 0.4}. Best is trial 23 with value: 2.932047247796002.\n"
     ]
    },
    {
     "name": "stdout",
     "output_type": "stream",
     "text": [
      "2.9925261984634517\n"
     ]
    },
    {
     "name": "stderr",
     "output_type": "stream",
     "text": [
      "[I 2023-11-14 13:59:07,529] Trial 25 finished with value: 2.9320575159946944 and parameters: {'lr': 0.002, 'lambda': 2e-05, 'alpha': 0.02, 'beta': 0.08, 'lambda_1': 0.001, 'lambda_2': 0.1, 'k': 2, 'init': 0.4}. Best is trial 23 with value: 2.932047247796002.\n"
     ]
    },
    {
     "name": "stdout",
     "output_type": "stream",
     "text": [
      "2.9320575159946944\n"
     ]
    },
    {
     "name": "stderr",
     "output_type": "stream",
     "text": [
      "[I 2023-11-14 13:59:23,919] Trial 26 finished with value: 2.932090916218772 and parameters: {'lr': 0.002, 'lambda': 2e-05, 'alpha': 0.02, 'beta': 0.08, 'lambda_1': 0.001, 'lambda_2': 0.1, 'k': 2, 'init': 0.4}. Best is trial 23 with value: 2.932047247796002.\n"
     ]
    },
    {
     "name": "stdout",
     "output_type": "stream",
     "text": [
      "2.932090916218772\n"
     ]
    },
    {
     "name": "stderr",
     "output_type": "stream",
     "text": [
      "[I 2023-11-14 13:59:40,685] Trial 27 finished with value: 2.9324672586394693 and parameters: {'lr': 0.002, 'lambda': 2e-06, 'alpha': 0.02, 'beta': 0.08, 'lambda_1': 0.001, 'lambda_2': 0.1, 'k': 2, 'init': 0.66}. Best is trial 23 with value: 2.932047247796002.\n"
     ]
    },
    {
     "name": "stdout",
     "output_type": "stream",
     "text": [
      "2.9324672586394693\n"
     ]
    },
    {
     "name": "stderr",
     "output_type": "stream",
     "text": [
      "[I 2023-11-14 13:59:57,564] Trial 28 finished with value: 3.171555862899465 and parameters: {'lr': 0.02, 'lambda': 2e-05, 'alpha': 0.0002, 'beta': 0.8, 'lambda_1': 0.001, 'lambda_2': 0.1, 'k': 2, 'init': 0.8}. Best is trial 23 with value: 2.932047247796002.\n"
     ]
    },
    {
     "name": "stdout",
     "output_type": "stream",
     "text": [
      "3.171555862899465\n"
     ]
    },
    {
     "name": "stderr",
     "output_type": "stream",
     "text": [
      "[I 2023-11-14 14:00:14,311] Trial 29 finished with value: 3.062511607776049 and parameters: {'lr': 0.002, 'lambda': 0.0002, 'alpha': 0.002, 'beta': 0.2, 'lambda_1': 0.001, 'lambda_2': 0.5, 'k': 2, 'init': 0.66}. Best is trial 23 with value: 2.932047247796002.\n"
     ]
    },
    {
     "name": "stdout",
     "output_type": "stream",
     "text": [
      "3.062511607776049\n"
     ]
    },
    {
     "name": "stderr",
     "output_type": "stream",
     "text": [
      "[I 2023-11-14 14:00:39,069] Trial 30 finished with value: 3.074001517624051 and parameters: {'lr': 0.0002, 'lambda': 0.002, 'alpha': 0.002, 'beta': 0.2, 'lambda_1': 0.001, 'lambda_2': 1.5, 'k': 8, 'init': 0.4}. Best is trial 23 with value: 2.932047247796002.\n"
     ]
    },
    {
     "name": "stdout",
     "output_type": "stream",
     "text": [
      "3.074001517624051\n"
     ]
    },
    {
     "name": "stderr",
     "output_type": "stream",
     "text": [
      "[I 2023-11-14 14:00:57,733] Trial 31 finished with value: 2.932076371970842 and parameters: {'lr': 0.002, 'lambda': 2e-05, 'alpha': 0.02, 'beta': 0.08, 'lambda_1': 0.001, 'lambda_2': 0.1, 'k': 2, 'init': 0.4}. Best is trial 23 with value: 2.932047247796002.\n"
     ]
    },
    {
     "name": "stdout",
     "output_type": "stream",
     "text": [
      "2.932076371970842\n"
     ]
    },
    {
     "name": "stderr",
     "output_type": "stream",
     "text": [
      "[I 2023-11-14 14:01:16,421] Trial 32 finished with value: 2.9320561399127456 and parameters: {'lr': 0.002, 'lambda': 2e-05, 'alpha': 0.02, 'beta': 0.08, 'lambda_1': 0.001, 'lambda_2': 0.1, 'k': 2, 'init': 0.4}. Best is trial 23 with value: 2.932047247796002.\n"
     ]
    },
    {
     "name": "stdout",
     "output_type": "stream",
     "text": [
      "2.9320561399127456\n"
     ]
    },
    {
     "name": "stderr",
     "output_type": "stream",
     "text": [
      "[I 2023-11-14 14:01:42,216] Trial 33 finished with value: 2.9195274397756847 and parameters: {'lr': 0.002, 'lambda': 2e-05, 'alpha': 0.02, 'beta': 0.08, 'lambda_1': 0.001, 'lambda_2': 0.1, 'k': 5, 'init': 0.4}. Best is trial 33 with value: 2.9195274397756847.\n"
     ]
    },
    {
     "name": "stdout",
     "output_type": "stream",
     "text": [
      "2.9195274397756847\n"
     ]
    },
    {
     "name": "stderr",
     "output_type": "stream",
     "text": [
      "[I 2023-11-14 14:02:04,589] Trial 34 finished with value: 2.9195240472807766 and parameters: {'lr': 0.002, 'lambda': 2e-05, 'alpha': 0.02, 'beta': 0.08, 'lambda_1': 0.001, 'lambda_2': 0.1, 'k': 5, 'init': 0.4}. Best is trial 34 with value: 2.9195240472807766.\n"
     ]
    },
    {
     "name": "stdout",
     "output_type": "stream",
     "text": [
      "2.9195240472807766\n"
     ]
    },
    {
     "name": "stderr",
     "output_type": "stream",
     "text": [
      "[I 2023-11-14 14:02:27,631] Trial 35 finished with value: 2.9192835012658396 and parameters: {'lr': 0.02, 'lambda': 0.0002, 'alpha': 0.02, 'beta': 0.08, 'lambda_1': 0.001, 'lambda_2': 0.1, 'k': 5, 'init': 0.1}. Best is trial 35 with value: 2.9192835012658396.\n"
     ]
    },
    {
     "name": "stdout",
     "output_type": "stream",
     "text": [
      "2.9192835012658396\n"
     ]
    }
   ],
   "source": [
    "import optuna\n",
    "from optuna import Trial, visualization\n",
    "from optuna.samplers import TPESampler\n",
    "from sklearn.metrics import roc_auc_score\n",
    "from sklearn.metrics import mean_squared_error\n",
    "\n",
    "ffm_model = xl.create_ffm()\n",
    "ffm_model.setTrain(\"FFM_train_reg.txt\")\n",
    "ffm_model.setValidate(\"FFM_test_reg.txt\")\n",
    "\n",
    "y_true = []\n",
    "with open('FFM_test_reg.txt', 'r') as file:\n",
    "    for line in file:\n",
    "        first_value = int(line.split()[0])\n",
    "        y_true.append(first_value)\n",
    "\n",
    "def objective_function(trial):\n",
    "\n",
    "    param = {\n",
    "        #'task':'binary',\n",
    "        'task':'reg',\n",
    "        'lr':trial.suggest_categorical('lr', [0.2,0.02,0.002, 0.0002,0.5]),\n",
    "        'lambda':trial.suggest_categorical('lambda', [0.002, 0.0002, 0.00002,0.000002]),\n",
    "        'opt':'ftrl', \n",
    "        'metric': 'rmse',\n",
    "        'alpha':trial.suggest_categorical('alpha', [0.002,0.02,0.0002]),\n",
    "        'beta':trial.suggest_categorical('beta', [0.8, 0.08, 0.2]),\n",
    "        'lambda_1':trial.suggest_categorical('lambda_1', [0.001,0.01,0.0001,0.005]),\n",
    "        'lambda_2': trial.suggest_categorical('lambda_2', [1.0,1.5,0.5,0.1]),\n",
    "        'k':trial.suggest_categorical('k', [2,4,5,8]),\n",
    "        'init':trial.suggest_categorical('init', [0.1,0.4,0.8,0.66])\n",
    "    }\n",
    "\n",
    "    ffm_model.fit(param, \"ffm_model.out\")\n",
    "    ffm_model.setTest(\"FFM_test_reg.txt\")\n",
    "    ffm_model.predict(\"ffm_model.out\", \"output.txt\")\n",
    "\n",
    "    y_scores = []\n",
    "\n",
    "    with open('output.txt', 'r') as file:\n",
    "        for line in file:\n",
    "            value = float(line.strip())\n",
    "            y_scores.append(value)\n",
    "\n",
    "    result = np.sqrt(mean_squared_error(y_true, y_scores))\n",
    "    print(result)\n",
    "\n",
    "    return result\n",
    "\n",
    "\n",
    "study = optuna.create_study(direction='minimize', sampler=TPESampler())\n",
    "study.optimize(lambda trial : objective_function(trial), n_trials=1000)\n",
    "print('Best trial : score {}, \\nparams {}'.format(study.best_trial.value, study.best_trial.params))"
   ]
  },
  {
   "cell_type": "code",
   "execution_count": null,
   "metadata": {},
   "outputs": [],
   "source": []
  }
 ],
 "metadata": {
  "kernelspec": {
   "display_name": "base_2",
   "language": "python",
   "name": "python3"
  },
  "language_info": {
   "codemirror_mode": {
    "name": "ipython",
    "version": 3
   },
   "file_extension": ".py",
   "mimetype": "text/x-python",
   "name": "python",
   "nbconvert_exporter": "python",
   "pygments_lexer": "ipython3",
   "version": "3.9.0"
  }
 },
 "nbformat": 4,
 "nbformat_minor": 2
}
